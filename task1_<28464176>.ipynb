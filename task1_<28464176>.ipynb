{
 "cells": [
  {
   "cell_type": "markdown",
   "metadata": {},
   "source": [
    "# FIT5196 Task 1 in Assessment 1\n",
    "### Student Name: HsinHui Lin\n",
    "### Student ID: 28464176\n",
    "### Date: 02/Sep/2018\n",
    "### Version: 1.0\n",
    "### Environment: Python 3.6 and Jupyter notebook\n",
    "### Libraries used: \n",
    "### re (for regular expression, included in Anaconda Python 3.6)\n",
    "### json (for parsing json from strings or files, included in Anaconda Python 3.6)\n"
   ]
  },
  {
   "cell_type": "markdown",
   "metadata": {},
   "source": [
    "### ______\n",
    "#### Import libraries"
   ]
  },
  {
   "cell_type": "code",
   "execution_count": null,
   "metadata": {
    "collapsed": true
   },
   "outputs": [],
   "source": [
    "import re\n",
    "import json"
   ]
  },
  {
   "cell_type": "markdown",
   "metadata": {},
   "source": [
    "#### Load data\n",
    "#### open and read the file"
   ]
  },
  {
   "cell_type": "code",
   "execution_count": null,
   "metadata": {},
   "outputs": [],
   "source": [
    "with open(\"28464176.dat\") as file:\n",
    "    data=file.read()\n",
    "file.close"
   ]
  },
  {
   "cell_type": "markdown",
   "metadata": {},
   "source": [
    "#### examining data--get the data from 0 to 99"
   ]
  },
  {
   "cell_type": "code",
   "execution_count": null,
   "metadata": {},
   "outputs": [],
   "source": [
    "data[0:100]"
   ]
  },
  {
   "cell_type": "markdown",
   "metadata": {},
   "source": [
    "#### split the data and change to the next line."
   ]
  },
  {
   "cell_type": "code",
   "execution_count": null,
   "metadata": {
    "collapsed": true
   },
   "outputs": [],
   "source": [
    "lines=data.split(\"\\n\")"
   ]
  },
  {
   "cell_type": "markdown",
   "metadata": {},
   "source": [
    "#### get the lines from 0 to 99"
   ]
  },
  {
   "cell_type": "code",
   "execution_count": null,
   "metadata": {},
   "outputs": [],
   "source": [
    "lines[0:100]"
   ]
  },
  {
   "cell_type": "markdown",
   "metadata": {},
   "source": [
    "### divide jobs\n",
    "#### as we see above, the jobs is divided by '------------------------------'\n",
    "#### then we check how many jobs is here"
   ]
  },
  {
   "cell_type": "code",
   "execution_count": null,
   "metadata": {},
   "outputs": [],
   "source": [
    "jobs=data.split(\"------------------------------\")\n",
    "len(jobs)"
   ]
  },
  {
   "cell_type": "code",
   "execution_count": null,
   "metadata": {},
   "outputs": [],
   "source": [
    "#We check the last two lines, if there is a \"------------------------------\" or a \"\\n\",\n",
    "#at the end of last job\n",
    "print(lines[-1])\n",
    "print(lines[-2])"
   ]
  },
  {
   "cell_type": "markdown",
   "metadata": {},
   "source": [
    "#### Get the job from the last one"
   ]
  },
  {
   "cell_type": "code",
   "execution_count": null,
   "metadata": {},
   "outputs": [],
   "source": [
    "jobs[-1]"
   ]
  },
  {
   "cell_type": "markdown",
   "metadata": {},
   "source": [
    "#### Get the jobs form the last two"
   ]
  },
  {
   "cell_type": "code",
   "execution_count": null,
   "metadata": {},
   "outputs": [],
   "source": [
    "jobs[-2]"
   ]
  },
  {
   "cell_type": "markdown",
   "metadata": {},
   "source": [
    "#### Get the elements of the list from the last one"
   ]
  },
  {
   "cell_type": "code",
   "execution_count": null,
   "metadata": {
    "collapsed": true
   },
   "outputs": [],
   "source": [
    "jobs=jobs[:-1]"
   ]
  },
  {
   "cell_type": "markdown",
   "metadata": {},
   "source": [
    "thus, there should be 32004-1 jobs to wrangling."
   ]
  },
  {
   "cell_type": "markdown",
   "metadata": {},
   "source": [
    "### Compile a regular expression pattern into a regular expression\n",
    "#### Findall( ) function is used in returning all matching keywords\n",
    "#### using set to avoid the repeat values"
   ]
  },
  {
   "cell_type": "code",
   "execution_count": null,
   "metadata": {
    "collapsed": true
   },
   "outputs": [],
   "source": [
    "pattern = re.compile(r'[\\w]*[ ]*[\\w]+:', re.I)\n",
    "tags=pattern.findall(data.lower())\n",
    "tag_set=set(tags)"
   ]
  },
  {
   "cell_type": "markdown",
   "metadata": {},
   "source": [
    "#### create a loop and find the common tag which with over 50 frequency ; then append to the new list."
   ]
  },
  {
   "cell_type": "code",
   "execution_count": null,
   "metadata": {
    "collapsed": true
   },
   "outputs": [],
   "source": [
    "tag_frequence={}\n",
    "for tag in tag_set:\n",
    "    tag_frequence[tag]=tags.count(tag)\n",
    "    \n",
    "#find the common tag which appears more than 50 times in all data\n",
    "tag_to_select=[]\n",
    "for t in tag_frequence.keys():\n",
    "    if tag_frequence[t]>=50:\n",
    "        tag_to_select.append(t.lower())"
   ]
  },
  {
   "cell_type": "markdown",
   "metadata": {},
   "source": [
    "#### print out the result"
   ]
  },
  {
   "cell_type": "code",
   "execution_count": null,
   "metadata": {},
   "outputs": [],
   "source": [
    "print(tag_to_select)"
   ]
  },
  {
   "cell_type": "markdown",
   "metadata": {},
   "source": [
    "### select and build the json key manually"
   ]
  },
  {
   "cell_type": "code",
   "execution_count": null,
   "metadata": {
    "collapsed": true
   },
   "outputs": [],
   "source": [
    "\n",
    "json_key={\"_id:\":\"id\",\\\n",
    "          \"salary:\":\"salary\",\"job_sal:\":\"salary\",\"remuneration:\":\"salary\",\\\n",
    "          \"title:\":\"title\",\"titles:\":\"title\",\"_ttl:\":\"title\",\"job title:\":\"title\",\\\n",
    "          \"location:\":\"location\",\"locations:\":\"location\",\"_loc:\":\"location\",\"_locs:\":\"location\",\"job_loc:\":\"location\",\\\n",
    "          \"description:\":\"job_descriptions\",\"_description:\":\"job_descriptions\",\"job_desc:\":\"job_descriptions\",\"job description:\":\"job_descriptions\",\\\n",
    "          \"responsibility:\":\"job_responsibilities\",\"responsibilities:\":\"job_responsibilities\",\"job responsibilities:\":\"job_responsibilities\",\\\n",
    "          \"job_resps:\":\"job_responsibilities\",\"resp:\":\"job_responsibilities\",\\\n",
    "          \"qualification:\": \"required_qualifications\",\"qualifications:\":\"required_qualifications\",\"required qualifications:\":\"required_qualifications\",\\\n",
    "          \"desired qualifications:\":\"required_qualifications\",\"req_quals:\":\"required_qualifications\",\\\n",
    "          \"procedure:\":\"application_procedure\",\"procedures:\":\"application_procedure\",\"job_proc:\":\"application_procedure\",\"job_procs:\":\"application_procedure\",\\\n",
    "          \"start_date:\":\"start_date\",\"start date:\":\"start_date\",\"date_start:\":\"start_date\",\"dates:\":\"start_date\",\"start_da:\":\"start_date\",\\\n",
    "          \"dead_line:\":\"application_deadline\",\"deadlines:\":\"application_deadline\",\"application_deadl:\":\"application_deadline\",\\\n",
    "          \"about_company:\":\"about_company\",\"about company:\":\"about_company\",\"companys_info:\":\"about_company\",\"_info:\":\"about_company\",\"about:\":\"about_company\"\n",
    "         }\n",
    "         "
   ]
  },
  {
   "cell_type": "markdown",
   "metadata": {},
   "source": [
    "#### Use if statement to check the line ; the strip( ) removes elements as mentioned on the statement. find the json_key and if not return \"not a start\""
   ]
  },
  {
   "cell_type": "code",
   "execution_count": null,
   "metadata": {
    "collapsed": true
   },
   "outputs": [],
   "source": [
    "def New_line_checker(line):\n",
    "    if line.lower().strip().startswith(\"-\"):\n",
    "        return True,\"-\"\n",
    "    if line.lower().strip().startswith(\"id:\"):\n",
    "        return True,\"_id\"\n",
    "    for key in json_key.keys():\n",
    "        if line.lower().strip().startswith(key):\n",
    "            return True,json_key[key]\n",
    "    return False,\"not a start\""
   ]
  },
  {
   "cell_type": "markdown",
   "metadata": {},
   "source": [
    "#### Create a list named lines_structured and loop the list ; with the condition matched the true then return the structured line."
   ]
  },
  {
   "cell_type": "code",
   "execution_count": null,
   "metadata": {
    "collapsed": true
   },
   "outputs": [],
   "source": [
    "def Structure_jobs(job):\n",
    "    lines=job.split(\"\\n\")\n",
    "    lines_structured=[]\n",
    "    for line in lines:\n",
    "        if (len(line.strip())==0 or line.lower().endswith(\"/\") or line.lower().startswith(\"other responsibilities:\"))==False:\n",
    "            if line.strip()[-1] in [\".\",\";\"]:\n",
    "                line=line[:-1]\n",
    "            if New_line_checker(line)[0]==False:\n",
    "                lines_structured[-1]+=\" \"\n",
    "                lines_structured[-1]+=line.strip()\n",
    "            else:\n",
    "                lines_structured.append(line.strip())\n",
    "    return lines_structured"
   ]
  },
  {
   "cell_type": "markdown",
   "metadata": {},
   "source": [
    "### The in-built function-map is to project or map one list to another"
   ]
  },
  {
   "cell_type": "code",
   "execution_count": null,
   "metadata": {
    "collapsed": true
   },
   "outputs": [],
   "source": [
    "jobs=[job for job in map(Structure_jobs,jobs)]"
   ]
  },
  {
   "cell_type": "code",
   "execution_count": null,
   "metadata": {},
   "outputs": [],
   "source": [
    "### have a quick look for the structured job\n",
    "jobs[4]"
   ]
  },
  {
   "cell_type": "markdown",
   "metadata": {},
   "source": [
    "#### create a dictionary with empty value ; for example: {'title': 'N/A', 'application_procedure': 'N/A', 'job_descriptions': 'N/A', 'application_deadline': 'N/A', 'about_company': 'N/A', 'job_responsibilities': 'N/A', 'salary': 'N/A', 'required_qualifications': 'N/A', 'location': 'N/A', 'start_date': 'N/A', 'id': 'N/A'}"
   ]
  },
  {
   "cell_type": "code",
   "execution_count": null,
   "metadata": {},
   "outputs": [],
   "source": [
    "job_dict={}\n",
    "for value in set(json_key.values()):\n",
    "    job_dict[value]=\"N/A\"\n",
    "print(job_dict)"
   ]
  },
  {
   "cell_type": "markdown",
   "metadata": {},
   "source": [
    "#### build the dictionary with if-else statement to return the job_dict"
   ]
  },
  {
   "cell_type": "code",
   "execution_count": null,
   "metadata": {
    "collapsed": true
   },
   "outputs": [],
   "source": [
    "def Build_job_dic(job):\n",
    "    job_dict={}\n",
    "    for value in set(json_key.values()):\n",
    "        job_dict[value]=\"N/A\"\n",
    "    del job_dict[\"id\"]\n",
    "    dealing=\"\"\n",
    "    sub=\"\"\n",
    "    #json_key\n",
    "    for line in job:\n",
    "        boolean,start=New_line_checker(line)\n",
    "        if start==\"_id\":\n",
    "              job_dict[\"_id\"]=line.split(\":\",1)[1]\n",
    "        else:                    \n",
    "            if boolean==True and start!=\"-\":\n",
    "                dealing=\"\"\n",
    "                sub=\"\"\n",
    "                if len(line.split(\":\",1))>1 and len(line.split(\":\",1)[1].strip())==0:\n",
    "                    job_dict[json_key[line.split(\":\",1)[0].lower()+\":\"]]=\"N/A\"\n",
    "                else:\n",
    "                    job_dict[json_key[line.split(\":\",1)[0].lower()+\":\"]]=line.split(\":\",1)[1].lower().strip()\n",
    "                if line.split(\":\",1)[1].strip() !=\"\":\n",
    "                    job_dict[json_key[line.split(\":\",1)[0].lower()+\":\"]]=line.split(\":\",1)[1].strip()\n",
    "                if(json_key[line.split(\":\",1)[0].lower()+\":\"]==\"job_responsibilities\"):\n",
    "                    dealing=json_key[line.split(\":\",1)[0].lower()+\":\"]\n",
    "                    sub=\"responsibility\"\n",
    "                    job_dict[\"job_responsibilities\"]={\"responsibility\":[]}\n",
    "                if(json_key[line.split(\":\",1)[0].lower()+\":\"]==\"required_qualifications\"):\n",
    "                    dealing=json_key[line.split(\":\",1)[0].lower()+\":\"]\n",
    "                    sub=\"qualification\" \n",
    "                    job_dict[\"required_qualifications\"]={\"qualification\":[]}                \n",
    "                if(json_key[line.split(\":\",1)[0].lower()+\":\"]==\"job_descriptions\"):\n",
    "                    dealing=json_key[line.split(\":\",1)[0].lower()+\":\"]\n",
    "                    sub=\"description\"\n",
    "                    job_dict[\"job_descriptions\"]={\"description\":[]}\n",
    "        if dealing!=\"\" and start.startswith(\"-\")==False:\n",
    "            if len(line.split(\":\",1))>1 and len(line.split(\":\",1)[1].strip())!=0: \n",
    "                job_dict[dealing][sub].append(line.split(\":\",1)[1].strip())\n",
    "        if boolean==True and (start.startswith(\"-\")==True) and dealing!=\"\":\n",
    "            job_dict[dealing][sub].append(line.split(\"-\",1)[1].strip())\n",
    "    return job_dict"
   ]
  },
  {
   "cell_type": "markdown",
   "metadata": {},
   "source": [
    "#### create job_info_dict with map function and refer the Build_job_dict"
   ]
  },
  {
   "cell_type": "code",
   "execution_count": null,
   "metadata": {
    "collapsed": true
   },
   "outputs": [],
   "source": [
    "job_info_dicts=[job_info for job_info in map(Build_job_dic,jobs)]"
   ]
  },
  {
   "cell_type": "markdown",
   "metadata": {},
   "source": [
    "#### have a quick look of the structured job"
   ]
  },
  {
   "cell_type": "code",
   "execution_count": null,
   "metadata": {},
   "outputs": [],
   "source": [
    "jobs[6]"
   ]
  },
  {
   "cell_type": "markdown",
   "metadata": {},
   "source": [
    "#### build job dictionary and have a quick look"
   ]
  },
  {
   "cell_type": "code",
   "execution_count": null,
   "metadata": {},
   "outputs": [],
   "source": [
    "Build_job_dic(jobs[6])"
   ]
  },
  {
   "cell_type": "markdown",
   "metadata": {},
   "source": [
    "#### build xml and using if-else statement "
   ]
  },
  {
   "cell_type": "code",
   "execution_count": null,
   "metadata": {
    "collapsed": true
   },
   "outputs": [],
   "source": [
    "def Build_xml(job_dict):    \n",
    "    xml=\"<listing id=\\\"{}\\\">\\n\".format(job_dict[\"_id\"].strip())\n",
    "    for key in job_dict.keys():\n",
    "        if key!=\"_id\":\n",
    "            if key not in [\"job_descriptions\",\"job_responsibilities\",\"required_qualifications\"]:\n",
    "                xml=xml+\"<{}>\\n{}\\n\"\"</{}>\\n\".format(key,job_dict[key].strip().replace(\"&\",\"&amp;\").replace(\"<\",\"&lt;\")\\\n",
    "                                                           .replace(\">\",\"&gt;\").replace(\"\\\"\",\"&quot;\").replace(\"'\",\"&apos;\"),key)\n",
    "            if key in [\"job_descriptions\",\"job_responsibilities\",\"required_qualifications\"]:\n",
    "                xml+=\"<{}>\\n\".format(key)\n",
    "                sub=\"\"\n",
    "                if key==\"job_descriptions\":\n",
    "                    sub=\"description\"\n",
    "                if key==\"job_responsibilities\":\n",
    "                    sub=\"responsibility\"\n",
    "                if key==\"required_qualifications\":\n",
    "                    sub=\"qualification\"\n",
    "                if job_dict[key]==\"N/A\":\n",
    "                    xml+=\"N/A\"\n",
    "                else:\n",
    "                    for value in job_dict[key][sub]:\n",
    "                        xml+=\"<{}>\\n{}\\n\"\"</{}>\\n\".format(sub,value.strip().replace(\"&\",\"&amp;\").replace(\"<\",\"&lt;\")\\\n",
    "                                                           .replace(\">\",\"&gt;\").replace(\"\\\"\",\"&quot;\").replace(\"'\",\"&apos;\"),sub)\n",
    "                xml+=\"</{}>\\n\".format(key)\n",
    "    xml+=\"</listing>\"\n",
    "    xml+=\"\\n\"\n",
    "    return xml"
   ]
  },
  {
   "cell_type": "markdown",
   "metadata": {},
   "source": [
    "#### to project or map one list to another that match the format."
   ]
  },
  {
   "cell_type": "code",
   "execution_count": null,
   "metadata": {},
   "outputs": [],
   "source": [
    "job_xmls=[job_xml for job_xml in map(Build_xml,job_info_dicts)]"
   ]
  },
  {
   "cell_type": "markdown",
   "metadata": {},
   "source": [
    "#### print out the result"
   ]
  },
  {
   "cell_type": "code",
   "execution_count": null,
   "metadata": {},
   "outputs": [],
   "source": [
    "print(job_xmls[0])"
   ]
  },
  {
   "cell_type": "markdown",
   "metadata": {},
   "source": [
    "#### create the loop to form the job_xml_final"
   ]
  },
  {
   "cell_type": "code",
   "execution_count": null,
   "metadata": {
    "collapsed": true
   },
   "outputs": [],
   "source": [
    "job_xml_final=\"<?xml version=\\\"1.0\\\" encoding=\\\"UTF-8\\\" ?>\\n<listings>\\n\"\n",
    "for job_xml in job_xmls:\n",
    "    job_xml_final+=job_xml\n",
    "job_xml_final+=\"</listings>\\n\""
   ]
  },
  {
   "cell_type": "markdown",
   "metadata": {},
   "source": [
    "#### check the format of xml string"
   ]
  },
  {
   "cell_type": "code",
   "execution_count": null,
   "metadata": {
    "collapsed": true
   },
   "outputs": [],
   "source": [
    "print(job_xml_final[0:3000])"
   ]
  },
  {
   "cell_type": "markdown",
   "metadata": {},
   "source": [
    "#### xml_file "
   ]
  },
  {
   "cell_type": "code",
   "execution_count": null,
   "metadata": {
    "collapsed": true
   },
   "outputs": [],
   "source": [
    "xml_file= open('28464176.xml', 'w')\n",
    "xml_file.write(job_xml_final)\n",
    "xml_file.close()"
   ]
  },
  {
   "cell_type": "markdown",
   "metadata": {},
   "source": [
    "#### format the json_string"
   ]
  },
  {
   "cell_type": "code",
   "execution_count": null,
   "metadata": {
    "collapsed": true
   },
   "outputs": [],
   "source": [
    "json_string=json.dumps({\"listings\":{\"listing\":job_info_dicts}}, indent=2)"
   ]
  },
  {
   "cell_type": "markdown",
   "metadata": {},
   "source": [
    "#### check the format of json string"
   ]
  },
  {
   "cell_type": "code",
   "execution_count": null,
   "metadata": {},
   "outputs": [],
   "source": [
    "print(json_string[0:2000])"
   ]
  },
  {
   "cell_type": "markdown",
   "metadata": {},
   "source": [
    "#### json_file"
   ]
  },
  {
   "cell_type": "code",
   "execution_count": null,
   "metadata": {
    "collapsed": true
   },
   "outputs": [],
   "source": [
    "json_file = open('28464176.json', 'w')\n",
    "json_file.write(json_string)\n",
    "json_file.close()"
   ]
  }
 ],
 "metadata": {
  "kernelspec": {
   "display_name": "Python 3",
   "language": "python",
   "name": "python3"
  },
  "language_info": {
   "codemirror_mode": {
    "name": "ipython",
    "version": 3
   },
   "file_extension": ".py",
   "mimetype": "text/x-python",
   "name": "python",
   "nbconvert_exporter": "python",
   "pygments_lexer": "ipython3",
   "version": "3.6.1"
  }
 },
 "nbformat": 4,
 "nbformat_minor": 2
}
